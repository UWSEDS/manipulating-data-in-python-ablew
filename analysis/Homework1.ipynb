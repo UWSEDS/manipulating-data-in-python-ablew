{
 "cells": [
  {
   "cell_type": "code",
   "execution_count": 2,
   "metadata": {},
   "outputs": [
    {
     "name": "stdout",
     "output_type": "stream",
     "text": [
      "Populating the interactive namespace from numpy and matplotlib\n"
     ]
    }
   ],
   "source": [
    "import pandas as pd\n",
    "import numpy as np\n",
    "from matplotlib import pyplot as plt\n",
    "%pylab inline\n"
   ]
  },
  {
   "cell_type": "code",
   "execution_count": 5,
   "metadata": {
    "scrolled": false
   },
   "outputs": [
    {
     "name": "stdout",
     "output_type": "stream",
     "text": [
      "/home/ablew/data515hw/hw1/manipulating-data-in-python-ablew/data\n"
     ]
    }
   ],
   "source": [
    "%cd ../data"
   ]
  },
  {
   "cell_type": "markdown",
   "metadata": {},
   "source": [
    "# 1"
   ]
  },
  {
   "cell_type": "code",
   "execution_count": 27,
   "metadata": {},
   "outputs": [],
   "source": [
    "df = pd.read_csv(\"bicycle.csv\")"
   ]
  },
  {
   "cell_type": "code",
   "execution_count": 28,
   "metadata": {},
   "outputs": [
    {
     "data": {
      "text/html": [
       "<div>\n",
       "<style scoped>\n",
       "    .dataframe tbody tr th:only-of-type {\n",
       "        vertical-align: middle;\n",
       "    }\n",
       "\n",
       "    .dataframe tbody tr th {\n",
       "        vertical-align: top;\n",
       "    }\n",
       "\n",
       "    .dataframe thead th {\n",
       "        text-align: right;\n",
       "    }\n",
       "</style>\n",
       "<table border=\"1\" class=\"dataframe\">\n",
       "  <thead>\n",
       "    <tr style=\"text-align: right;\">\n",
       "      <th></th>\n",
       "      <th>Date</th>\n",
       "      <th>Fremont Bridge East Sidewalk</th>\n",
       "      <th>Fremont Bridge West Sidewalk</th>\n",
       "    </tr>\n",
       "  </thead>\n",
       "  <tbody>\n",
       "    <tr>\n",
       "      <th>0</th>\n",
       "      <td>03/31/2019 11:00:00 PM</td>\n",
       "      <td>6.0</td>\n",
       "      <td>10.0</td>\n",
       "    </tr>\n",
       "    <tr>\n",
       "      <th>1</th>\n",
       "      <td>03/31/2019 10:00:00 PM</td>\n",
       "      <td>7.0</td>\n",
       "      <td>14.0</td>\n",
       "    </tr>\n",
       "    <tr>\n",
       "      <th>2</th>\n",
       "      <td>03/31/2019 09:00:00 PM</td>\n",
       "      <td>18.0</td>\n",
       "      <td>15.0</td>\n",
       "    </tr>\n",
       "    <tr>\n",
       "      <th>3</th>\n",
       "      <td>03/31/2019 08:00:00 PM</td>\n",
       "      <td>26.0</td>\n",
       "      <td>31.0</td>\n",
       "    </tr>\n",
       "    <tr>\n",
       "      <th>4</th>\n",
       "      <td>03/31/2019 07:00:00 PM</td>\n",
       "      <td>30.0</td>\n",
       "      <td>58.0</td>\n",
       "    </tr>\n",
       "  </tbody>\n",
       "</table>\n",
       "</div>"
      ],
      "text/plain": [
       "                     Date  Fremont Bridge East Sidewalk  \\\n",
       "0  03/31/2019 11:00:00 PM                           6.0   \n",
       "1  03/31/2019 10:00:00 PM                           7.0   \n",
       "2  03/31/2019 09:00:00 PM                          18.0   \n",
       "3  03/31/2019 08:00:00 PM                          26.0   \n",
       "4  03/31/2019 07:00:00 PM                          30.0   \n",
       "\n",
       "   Fremont Bridge West Sidewalk  \n",
       "0                          10.0  \n",
       "1                          14.0  \n",
       "2                          15.0  \n",
       "3                          31.0  \n",
       "4                          58.0  "
      ]
     },
     "execution_count": 28,
     "metadata": {},
     "output_type": "execute_result"
    }
   ],
   "source": [
    "df.head()"
   ]
  },
  {
   "cell_type": "markdown",
   "metadata": {},
   "source": [
    "# 2"
   ]
  },
  {
   "cell_type": "markdown",
   "metadata": {},
   "source": [
    "i."
   ]
  },
  {
   "cell_type": "code",
   "execution_count": 29,
   "metadata": {},
   "outputs": [],
   "source": [
    "df['Total'] = df['Fremont Bridge East Sidewalk'] + df['Fremont Bridge West Sidewalk']"
   ]
  },
  {
   "cell_type": "code",
   "execution_count": 30,
   "metadata": {},
   "outputs": [],
   "source": [
    "df['Date'] = pd.to_datetime(df['Date'], format = \"%m/%d/%Y %I:%M:%S %p\")"
   ]
  },
  {
   "cell_type": "markdown",
   "metadata": {},
   "source": [
    "ii."
   ]
  },
  {
   "cell_type": "code",
   "execution_count": 31,
   "metadata": {},
   "outputs": [],
   "source": [
    "df['Hour'] = pd.DatetimeIndex(df['Date']).hour"
   ]
  },
  {
   "cell_type": "markdown",
   "metadata": {},
   "source": [
    "iii."
   ]
  },
  {
   "cell_type": "code",
   "execution_count": 32,
   "metadata": {},
   "outputs": [],
   "source": [
    "df['Year'] = pd.DatetimeIndex(df['Date']).year"
   ]
  },
  {
   "cell_type": "code",
   "execution_count": 33,
   "metadata": {},
   "outputs": [
    {
     "data": {
      "text/html": [
       "<div>\n",
       "<style scoped>\n",
       "    .dataframe tbody tr th:only-of-type {\n",
       "        vertical-align: middle;\n",
       "    }\n",
       "\n",
       "    .dataframe tbody tr th {\n",
       "        vertical-align: top;\n",
       "    }\n",
       "\n",
       "    .dataframe thead th {\n",
       "        text-align: right;\n",
       "    }\n",
       "</style>\n",
       "<table border=\"1\" class=\"dataframe\">\n",
       "  <thead>\n",
       "    <tr style=\"text-align: right;\">\n",
       "      <th></th>\n",
       "      <th>Date</th>\n",
       "      <th>Fremont Bridge East Sidewalk</th>\n",
       "      <th>Fremont Bridge West Sidewalk</th>\n",
       "      <th>Total</th>\n",
       "      <th>Hour</th>\n",
       "      <th>Year</th>\n",
       "    </tr>\n",
       "  </thead>\n",
       "  <tbody>\n",
       "    <tr>\n",
       "      <th>0</th>\n",
       "      <td>2019-03-31 23:00:00</td>\n",
       "      <td>6.0</td>\n",
       "      <td>10.0</td>\n",
       "      <td>16.0</td>\n",
       "      <td>23</td>\n",
       "      <td>2019</td>\n",
       "    </tr>\n",
       "    <tr>\n",
       "      <th>1</th>\n",
       "      <td>2019-03-31 22:00:00</td>\n",
       "      <td>7.0</td>\n",
       "      <td>14.0</td>\n",
       "      <td>21.0</td>\n",
       "      <td>22</td>\n",
       "      <td>2019</td>\n",
       "    </tr>\n",
       "    <tr>\n",
       "      <th>2</th>\n",
       "      <td>2019-03-31 21:00:00</td>\n",
       "      <td>18.0</td>\n",
       "      <td>15.0</td>\n",
       "      <td>33.0</td>\n",
       "      <td>21</td>\n",
       "      <td>2019</td>\n",
       "    </tr>\n",
       "    <tr>\n",
       "      <th>3</th>\n",
       "      <td>2019-03-31 20:00:00</td>\n",
       "      <td>26.0</td>\n",
       "      <td>31.0</td>\n",
       "      <td>57.0</td>\n",
       "      <td>20</td>\n",
       "      <td>2019</td>\n",
       "    </tr>\n",
       "    <tr>\n",
       "      <th>4</th>\n",
       "      <td>2019-03-31 19:00:00</td>\n",
       "      <td>30.0</td>\n",
       "      <td>58.0</td>\n",
       "      <td>88.0</td>\n",
       "      <td>19</td>\n",
       "      <td>2019</td>\n",
       "    </tr>\n",
       "  </tbody>\n",
       "</table>\n",
       "</div>"
      ],
      "text/plain": [
       "                 Date  Fremont Bridge East Sidewalk  \\\n",
       "0 2019-03-31 23:00:00                           6.0   \n",
       "1 2019-03-31 22:00:00                           7.0   \n",
       "2 2019-03-31 21:00:00                          18.0   \n",
       "3 2019-03-31 20:00:00                          26.0   \n",
       "4 2019-03-31 19:00:00                          30.0   \n",
       "\n",
       "   Fremont Bridge West Sidewalk  Total  Hour  Year  \n",
       "0                          10.0   16.0    23  2019  \n",
       "1                          14.0   21.0    22  2019  \n",
       "2                          15.0   33.0    21  2019  \n",
       "3                          31.0   57.0    20  2019  \n",
       "4                          58.0   88.0    19  2019  "
      ]
     },
     "execution_count": 33,
     "metadata": {},
     "output_type": "execute_result"
    }
   ],
   "source": [
    "df.head()"
   ]
  },
  {
   "cell_type": "markdown",
   "metadata": {},
   "source": [
    "# 3"
   ]
  },
  {
   "cell_type": "code",
   "execution_count": 34,
   "metadata": {},
   "outputs": [
    {
     "data": {
      "text/html": [
       "<div>\n",
       "<style scoped>\n",
       "    .dataframe tbody tr th:only-of-type {\n",
       "        vertical-align: middle;\n",
       "    }\n",
       "\n",
       "    .dataframe tbody tr th {\n",
       "        vertical-align: top;\n",
       "    }\n",
       "\n",
       "    .dataframe thead th {\n",
       "        text-align: right;\n",
       "    }\n",
       "</style>\n",
       "<table border=\"1\" class=\"dataframe\">\n",
       "  <thead>\n",
       "    <tr style=\"text-align: right;\">\n",
       "      <th></th>\n",
       "      <th>Date</th>\n",
       "      <th>Fremont Bridge East Sidewalk</th>\n",
       "      <th>Fremont Bridge West Sidewalk</th>\n",
       "      <th>Total</th>\n",
       "      <th>Hour</th>\n",
       "      <th>Year</th>\n",
       "    </tr>\n",
       "  </thead>\n",
       "  <tbody>\n",
       "    <tr>\n",
       "      <th>19680</th>\n",
       "      <td>2016-12-31 23:00:00</td>\n",
       "      <td>4.0</td>\n",
       "      <td>4.0</td>\n",
       "      <td>8.0</td>\n",
       "      <td>23</td>\n",
       "      <td>2016</td>\n",
       "    </tr>\n",
       "    <tr>\n",
       "      <th>19681</th>\n",
       "      <td>2016-12-31 22:00:00</td>\n",
       "      <td>7.0</td>\n",
       "      <td>8.0</td>\n",
       "      <td>15.0</td>\n",
       "      <td>22</td>\n",
       "      <td>2016</td>\n",
       "    </tr>\n",
       "    <tr>\n",
       "      <th>19682</th>\n",
       "      <td>2016-12-31 21:00:00</td>\n",
       "      <td>4.0</td>\n",
       "      <td>6.0</td>\n",
       "      <td>10.0</td>\n",
       "      <td>21</td>\n",
       "      <td>2016</td>\n",
       "    </tr>\n",
       "    <tr>\n",
       "      <th>19683</th>\n",
       "      <td>2016-12-31 20:00:00</td>\n",
       "      <td>3.0</td>\n",
       "      <td>6.0</td>\n",
       "      <td>9.0</td>\n",
       "      <td>20</td>\n",
       "      <td>2016</td>\n",
       "    </tr>\n",
       "    <tr>\n",
       "      <th>19684</th>\n",
       "      <td>2016-12-31 19:00:00</td>\n",
       "      <td>6.0</td>\n",
       "      <td>4.0</td>\n",
       "      <td>10.0</td>\n",
       "      <td>19</td>\n",
       "      <td>2016</td>\n",
       "    </tr>\n",
       "  </tbody>\n",
       "</table>\n",
       "</div>"
      ],
      "text/plain": [
       "                     Date  Fremont Bridge East Sidewalk  \\\n",
       "19680 2016-12-31 23:00:00                           4.0   \n",
       "19681 2016-12-31 22:00:00                           7.0   \n",
       "19682 2016-12-31 21:00:00                           4.0   \n",
       "19683 2016-12-31 20:00:00                           3.0   \n",
       "19684 2016-12-31 19:00:00                           6.0   \n",
       "\n",
       "       Fremont Bridge West Sidewalk  Total  Hour  Year  \n",
       "19680                           4.0    8.0    23  2016  \n",
       "19681                           8.0   15.0    22  2016  \n",
       "19682                           6.0   10.0    21  2016  \n",
       "19683                           6.0    9.0    20  2016  \n",
       "19684                           4.0   10.0    19  2016  "
      ]
     },
     "execution_count": 34,
     "metadata": {},
     "output_type": "execute_result"
    }
   ],
   "source": [
    "df2016 = df[df['Year'] == 2016]\n",
    "df2016.head()"
   ]
  },
  {
   "cell_type": "markdown",
   "metadata": {},
   "source": [
    "# 4"
   ]
  },
  {
   "cell_type": "code",
   "execution_count": 12,
   "metadata": {
    "scrolled": true
   },
   "outputs": [
    {
     "data": {
      "text/plain": [
       "366"
      ]
     },
     "execution_count": 12,
     "metadata": {},
     "output_type": "execute_result"
    }
   ],
   "source": [
    "len(df2016[df2016['Hour'] == 11])"
   ]
  },
  {
   "cell_type": "code",
   "execution_count": 14,
   "metadata": {
    "scrolled": true
   },
   "outputs": [
    {
     "data": {
      "text/plain": [
       "<matplotlib.axes._subplots.AxesSubplot at 0x7f45e8a09d68>"
      ]
     },
     "execution_count": 14,
     "metadata": {},
     "output_type": "execute_result"
    },
    {
     "data": {
      "image/png": "[encoded data removed]",
      "text/plain": [
       "<Figure size 432x288 with 1 Axes>"
      ]
     },
     "metadata": {
      "needs_background": "light"
     },
     "output_type": "display_data"
    }
   ],
   "source": [
    "group = df2016.groupby(by = 'Hour').sum()\n",
    "group['Total'].plot.bar()"
   ]
  },
  {
   "cell_type": "markdown",
   "metadata": {},
   "source": [
    "# 5"
   ]
  },
  {
   "cell_type": "code",
   "execution_count": 24,
   "metadata": {},
   "outputs": [
    {
     "data": {
      "text/html": [
       "<div>\n",
       "<style scoped>\n",
       "    .dataframe tbody tr th:only-of-type {\n",
       "        vertical-align: middle;\n",
       "    }\n",
       "\n",
       "    .dataframe tbody tr th {\n",
       "        vertical-align: top;\n",
       "    }\n",
       "\n",
       "    .dataframe thead th {\n",
       "        text-align: right;\n",
       "    }\n",
       "</style>\n",
       "<table border=\"1\" class=\"dataframe\">\n",
       "  <thead>\n",
       "    <tr style=\"text-align: right;\">\n",
       "      <th></th>\n",
       "      <th>Fremont Bridge East Sidewalk</th>\n",
       "      <th>Fremont Bridge West Sidewalk</th>\n",
       "      <th>Total</th>\n",
       "      <th>Year</th>\n",
       "    </tr>\n",
       "    <tr>\n",
       "      <th>Hour</th>\n",
       "      <th></th>\n",
       "      <th></th>\n",
       "      <th></th>\n",
       "      <th></th>\n",
       "    </tr>\n",
       "  </thead>\n",
       "  <tbody>\n",
       "    <tr>\n",
       "      <th>0</th>\n",
       "      <td>4.994517</td>\n",
       "      <td>6.638127</td>\n",
       "      <td>11.632644</td>\n",
       "      <td>2015.500211</td>\n",
       "    </tr>\n",
       "    <tr>\n",
       "      <th>1</th>\n",
       "      <td>2.781105</td>\n",
       "      <td>3.332771</td>\n",
       "      <td>6.113876</td>\n",
       "      <td>2015.500211</td>\n",
       "    </tr>\n",
       "    <tr>\n",
       "      <th>2</th>\n",
       "      <td>1.998309</td>\n",
       "      <td>2.082418</td>\n",
       "      <td>4.080727</td>\n",
       "      <td>2015.500211</td>\n",
       "    </tr>\n",
       "    <tr>\n",
       "      <th>3</th>\n",
       "      <td>1.563054</td>\n",
       "      <td>1.420498</td>\n",
       "      <td>2.983551</td>\n",
       "      <td>2015.500211</td>\n",
       "    </tr>\n",
       "    <tr>\n",
       "      <th>4</th>\n",
       "      <td>3.514973</td>\n",
       "      <td>3.042176</td>\n",
       "      <td>6.557149</td>\n",
       "      <td>2015.500211</td>\n",
       "    </tr>\n",
       "    <tr>\n",
       "      <th>5</th>\n",
       "      <td>16.267398</td>\n",
       "      <td>9.531843</td>\n",
       "      <td>25.799241</td>\n",
       "      <td>2015.500211</td>\n",
       "    </tr>\n",
       "    <tr>\n",
       "      <th>6</th>\n",
       "      <td>56.136229</td>\n",
       "      <td>33.907212</td>\n",
       "      <td>90.043442</td>\n",
       "      <td>2015.500211</td>\n",
       "    </tr>\n",
       "    <tr>\n",
       "      <th>7</th>\n",
       "      <td>146.623366</td>\n",
       "      <td>78.913960</td>\n",
       "      <td>225.537326</td>\n",
       "      <td>2015.500211</td>\n",
       "    </tr>\n",
       "    <tr>\n",
       "      <th>8</th>\n",
       "      <td>197.254323</td>\n",
       "      <td>120.650780</td>\n",
       "      <td>317.905103</td>\n",
       "      <td>2015.500211</td>\n",
       "    </tr>\n",
       "    <tr>\n",
       "      <th>9</th>\n",
       "      <td>106.008017</td>\n",
       "      <td>79.933333</td>\n",
       "      <td>185.941350</td>\n",
       "      <td>2015.500211</td>\n",
       "    </tr>\n",
       "    <tr>\n",
       "      <th>10</th>\n",
       "      <td>52.847679</td>\n",
       "      <td>44.318987</td>\n",
       "      <td>97.166667</td>\n",
       "      <td>2015.500211</td>\n",
       "    </tr>\n",
       "    <tr>\n",
       "      <th>11</th>\n",
       "      <td>45.352743</td>\n",
       "      <td>39.627004</td>\n",
       "      <td>84.979747</td>\n",
       "      <td>2015.500211</td>\n",
       "    </tr>\n",
       "    <tr>\n",
       "      <th>12</th>\n",
       "      <td>46.940084</td>\n",
       "      <td>42.859494</td>\n",
       "      <td>89.799578</td>\n",
       "      <td>2015.500211</td>\n",
       "    </tr>\n",
       "    <tr>\n",
       "      <th>13</th>\n",
       "      <td>49.203712</td>\n",
       "      <td>46.821594</td>\n",
       "      <td>96.025306</td>\n",
       "      <td>2015.500211</td>\n",
       "    </tr>\n",
       "    <tr>\n",
       "      <th>14</th>\n",
       "      <td>51.108815</td>\n",
       "      <td>53.139604</td>\n",
       "      <td>104.248418</td>\n",
       "      <td>2015.500211</td>\n",
       "    </tr>\n",
       "    <tr>\n",
       "      <th>15</th>\n",
       "      <td>60.153943</td>\n",
       "      <td>72.422606</td>\n",
       "      <td>132.576550</td>\n",
       "      <td>2015.500211</td>\n",
       "    </tr>\n",
       "    <tr>\n",
       "      <th>16</th>\n",
       "      <td>81.079713</td>\n",
       "      <td>139.114298</td>\n",
       "      <td>220.194011</td>\n",
       "      <td>2015.500211</td>\n",
       "    </tr>\n",
       "    <tr>\n",
       "      <th>17</th>\n",
       "      <td>111.566849</td>\n",
       "      <td>267.859975</td>\n",
       "      <td>379.426824</td>\n",
       "      <td>2015.500211</td>\n",
       "    </tr>\n",
       "    <tr>\n",
       "      <th>18</th>\n",
       "      <td>89.642767</td>\n",
       "      <td>171.613243</td>\n",
       "      <td>261.256010</td>\n",
       "      <td>2015.500211</td>\n",
       "    </tr>\n",
       "    <tr>\n",
       "      <th>19</th>\n",
       "      <td>49.000000</td>\n",
       "      <td>78.668073</td>\n",
       "      <td>127.668073</td>\n",
       "      <td>2015.500211</td>\n",
       "    </tr>\n",
       "    <tr>\n",
       "      <th>20</th>\n",
       "      <td>30.191059</td>\n",
       "      <td>43.353016</td>\n",
       "      <td>73.544074</td>\n",
       "      <td>2015.500211</td>\n",
       "    </tr>\n",
       "    <tr>\n",
       "      <th>21</th>\n",
       "      <td>20.704766</td>\n",
       "      <td>26.455504</td>\n",
       "      <td>47.160270</td>\n",
       "      <td>2015.500211</td>\n",
       "    </tr>\n",
       "    <tr>\n",
       "      <th>22</th>\n",
       "      <td>13.670603</td>\n",
       "      <td>17.706875</td>\n",
       "      <td>31.377478</td>\n",
       "      <td>2015.500211</td>\n",
       "    </tr>\n",
       "    <tr>\n",
       "      <th>23</th>\n",
       "      <td>8.645297</td>\n",
       "      <td>12.164909</td>\n",
       "      <td>20.810207</td>\n",
       "      <td>2015.500211</td>\n",
       "    </tr>\n",
       "  </tbody>\n",
       "</table>\n",
       "</div>"
      ],
      "text/plain": [
       "      Fremont Bridge East Sidewalk  Fremont Bridge West Sidewalk       Total  \\\n",
       "Hour                                                                           \n",
       "0                         4.994517                      6.638127   11.632644   \n",
       "1                         2.781105                      3.332771    6.113876   \n",
       "2                         1.998309                      2.082418    4.080727   \n",
       "3                         1.563054                      1.420498    2.983551   \n",
       "4                         3.514973                      3.042176    6.557149   \n",
       "5                        16.267398                      9.531843   25.799241   \n",
       "6                        56.136229                     33.907212   90.043442   \n",
       "7                       146.623366                     78.913960  225.537326   \n",
       "8                       197.254323                    120.650780  317.905103   \n",
       "9                       106.008017                     79.933333  185.941350   \n",
       "10                       52.847679                     44.318987   97.166667   \n",
       "11                       45.352743                     39.627004   84.979747   \n",
       "12                       46.940084                     42.859494   89.799578   \n",
       "13                       49.203712                     46.821594   96.025306   \n",
       "14                       51.108815                     53.139604  104.248418   \n",
       "15                       60.153943                     72.422606  132.576550   \n",
       "16                       81.079713                    139.114298  220.194011   \n",
       "17                      111.566849                    267.859975  379.426824   \n",
       "18                       89.642767                    171.613243  261.256010   \n",
       "19                       49.000000                     78.668073  127.668073   \n",
       "20                       30.191059                     43.353016   73.544074   \n",
       "21                       20.704766                     26.455504   47.160270   \n",
       "22                       13.670603                     17.706875   31.377478   \n",
       "23                        8.645297                     12.164909   20.810207   \n",
       "\n",
       "             Year  \n",
       "Hour               \n",
       "0     2015.500211  \n",
       "1     2015.500211  \n",
       "2     2015.500211  \n",
       "3     2015.500211  \n",
       "4     2015.500211  \n",
       "5     2015.500211  \n",
       "6     2015.500211  \n",
       "7     2015.500211  \n",
       "8     2015.500211  \n",
       "9     2015.500211  \n",
       "10    2015.500211  \n",
       "11    2015.500211  \n",
       "12    2015.500211  \n",
       "13    2015.500211  \n",
       "14    2015.500211  \n",
       "15    2015.500211  \n",
       "16    2015.500211  \n",
       "17    2015.500211  \n",
       "18    2015.500211  \n",
       "19    2015.500211  \n",
       "20    2015.500211  \n",
       "21    2015.500211  \n",
       "22    2015.500211  \n",
       "23    2015.500211  "
      ]
     },
     "execution_count": 24,
     "metadata": {},
     "output_type": "execute_result"
    }
   ],
   "source": [
    "a = df.groupby(by = 'Hour').mean()\n",
    "a"
   ]
  },
  {
   "cell_type": "code",
   "execution_count": 39,
   "metadata": {
    "scrolled": true
   },
   "outputs": [
    {
     "data": {
      "text/html": [
       "<div>\n",
       "<style scoped>\n",
       "    .dataframe tbody tr th:only-of-type {\n",
       "        vertical-align: middle;\n",
       "    }\n",
       "\n",
       "    .dataframe tbody tr th {\n",
       "        vertical-align: top;\n",
       "    }\n",
       "\n",
       "    .dataframe thead th {\n",
       "        text-align: right;\n",
       "    }\n",
       "</style>\n",
       "<table border=\"1\" class=\"dataframe\">\n",
       "  <thead>\n",
       "    <tr style=\"text-align: right;\">\n",
       "      <th></th>\n",
       "      <th>Fremont Bridge East Sidewalk</th>\n",
       "      <th>Fremont Bridge West Sidewalk</th>\n",
       "      <th>Total</th>\n",
       "      <th>Year</th>\n",
       "    </tr>\n",
       "    <tr>\n",
       "      <th>Hour</th>\n",
       "      <th></th>\n",
       "      <th></th>\n",
       "      <th></th>\n",
       "      <th></th>\n",
       "    </tr>\n",
       "  </thead>\n",
       "  <tbody>\n",
       "    <tr>\n",
       "      <th>17</th>\n",
       "      <td>111.566849</td>\n",
       "      <td>267.859975</td>\n",
       "      <td>379.426824</td>\n",
       "      <td>2015.500211</td>\n",
       "    </tr>\n",
       "  </tbody>\n",
       "</table>\n",
       "</div>"
      ],
      "text/plain": [
       "      Fremont Bridge East Sidewalk  Fremont Bridge West Sidewalk       Total  \\\n",
       "Hour                                                                           \n",
       "17                      111.566849                    267.859975  379.426824   \n",
       "\n",
       "             Year  \n",
       "Hour               \n",
       "17    2015.500211  "
      ]
     },
     "execution_count": 39,
     "metadata": {},
     "output_type": "execute_result"
    }
   ],
   "source": [
    "a[a['Total'] == a['Total'].max()]"
   ]
  },
  {
   "cell_type": "markdown",
   "metadata": {},
   "source": [
    "On average, the busiest hour of the day is 5 PM."
   ]
  },
  {
   "cell_type": "code",
   "execution_count": null,
   "metadata": {},
   "outputs": [],
   "source": []
  }
 ],
 "metadata": {
  "kernelspec": {
   "display_name": "Python 3",
   "language": "python",
   "name": "python3"
  },
  "language_info": {
   "codemirror_mode": {
    "name": "ipython",
    "version": 3
   },
   "file_extension": ".py",
   "mimetype": "text/x-python",
   "name": "python",
   "nbconvert_exporter": "python",
   "pygments_lexer": "ipython3",
   "version": "3.7.1"
  }
 },
 "nbformat": 4,
 "nbformat_minor": 2
}
